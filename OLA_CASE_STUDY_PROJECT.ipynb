{
 "cells": [
  {
   "cell_type": "markdown",
   "id": "ba10dd63-3f91-4c66-9cac-72c3fe38e9d5",
   "metadata": {},
   "source": [
    "#                                                         OLA DRIVER ATTRITION ANALYSIS:"
   ]
  },
  {
   "cell_type": "markdown",
   "id": "38b7e877-45d9-42f1-8a79-41db3fa166ab",
   "metadata": {},
   "source": [
    "##                                                              PROBLEM STATEMENT:"
   ]
  },
  {
   "cell_type": "markdown",
   "id": "ef1ed3da-6c4f-468a-8586-3bab9aa98b85",
   "metadata": {},
   "source": [
    "#### Ola struggles with a high churn rate among its drivers and it’s very easy for drivers to stop working for the service on the fly or jump to Uber depending on the rates, which leads to: \n",
    "\n",
    "-Increased hiring cost. \n",
    "\n",
    "-Lower operational efficency. \n",
    "\n",
    "-Disrupted customer service quality."
   ]
  },
  {
   "cell_type": "markdown",
   "id": "3038ee4b-ee0f-4add-97e9-5cec3edcb274",
   "metadata": {},
   "source": [
    "## PROJECT OBJECTIVE:"
   ]
  },
  {
   "cell_type": "markdown",
   "id": "7acb16cf-05b2-4d6f-8a02-85bbb3f9ab6f",
   "metadata": {},
   "source": [
    "#### Use information for a segment of drivers for 2019 and 2020 to:\n",
    "\n",
    "-Identify attrition pattern.\n",
    "\n",
    "-Predict whether a driver is likely to leave.\n",
    "\n",
    "-Provide actionable retention strategies.                                       "
   ]
  },
  {
   "cell_type": "markdown",
   "id": "0f8781a7-beda-4a1f-9e66-773ccc6a50c9",
   "metadata": {},
   "source": [
    "## DATA EXPLORATION:"
   ]
  },
  {
   "cell_type": "code",
   "execution_count": 32,
   "id": "3eea0149-24b6-4967-8ea4-6866ae5616a8",
   "metadata": {},
   "outputs": [],
   "source": [
    "import pandas as pd\n",
    "import numpy as np\n",
    "import matplotlib.pyplot as plt\n",
    "import seaborn as sns\n",
    "\n",
    "from sklearn.model_selection import train_test_split\n",
    "from sklearn.preprocessing import StandardScaler\n",
    "from sklearn.linear_model import LogisticRegression\n",
    "from sklearn.ensemble import RandomForestClassifier\n",
    "from sklearn.metrics import classification_report, roc_auc_score, roc_curve, confusion_matrix"
   ]
  },
  {
   "cell_type": "code",
   "execution_count": 33,
   "id": "6c805ce2-c948-4445-adfa-c1b8f96c7339",
   "metadata": {},
   "outputs": [
    {
     "data": {
      "text/html": [
       "<div>\n",
       "<style scoped>\n",
       "    .dataframe tbody tr th:only-of-type {\n",
       "        vertical-align: middle;\n",
       "    }\n",
       "\n",
       "    .dataframe tbody tr th {\n",
       "        vertical-align: top;\n",
       "    }\n",
       "\n",
       "    .dataframe thead th {\n",
       "        text-align: right;\n",
       "    }\n",
       "</style>\n",
       "<table border=\"1\" class=\"dataframe\">\n",
       "  <thead>\n",
       "    <tr style=\"text-align: right;\">\n",
       "      <th></th>\n",
       "      <th>Unnamed: 0</th>\n",
       "      <th>MMM-YY</th>\n",
       "      <th>Driver_ID</th>\n",
       "      <th>Age</th>\n",
       "      <th>Gender</th>\n",
       "      <th>City</th>\n",
       "      <th>Education_Level</th>\n",
       "      <th>Income</th>\n",
       "      <th>Dateofjoining</th>\n",
       "      <th>LastWorkingDate</th>\n",
       "      <th>Joining Designation</th>\n",
       "      <th>Grade</th>\n",
       "      <th>Total Business Value</th>\n",
       "      <th>Quarterly Rating</th>\n",
       "    </tr>\n",
       "  </thead>\n",
       "  <tbody>\n",
       "    <tr>\n",
       "      <th>0</th>\n",
       "      <td>0</td>\n",
       "      <td>01/01/19</td>\n",
       "      <td>1</td>\n",
       "      <td>28.0</td>\n",
       "      <td>0.0</td>\n",
       "      <td>C23</td>\n",
       "      <td>2</td>\n",
       "      <td>57387</td>\n",
       "      <td>24/12/18</td>\n",
       "      <td>NaN</td>\n",
       "      <td>1</td>\n",
       "      <td>1</td>\n",
       "      <td>2381060</td>\n",
       "      <td>2</td>\n",
       "    </tr>\n",
       "    <tr>\n",
       "      <th>1</th>\n",
       "      <td>1</td>\n",
       "      <td>02/01/19</td>\n",
       "      <td>1</td>\n",
       "      <td>28.0</td>\n",
       "      <td>0.0</td>\n",
       "      <td>C23</td>\n",
       "      <td>2</td>\n",
       "      <td>57387</td>\n",
       "      <td>24/12/18</td>\n",
       "      <td>NaN</td>\n",
       "      <td>1</td>\n",
       "      <td>1</td>\n",
       "      <td>-665480</td>\n",
       "      <td>2</td>\n",
       "    </tr>\n",
       "    <tr>\n",
       "      <th>2</th>\n",
       "      <td>2</td>\n",
       "      <td>03/01/19</td>\n",
       "      <td>1</td>\n",
       "      <td>28.0</td>\n",
       "      <td>0.0</td>\n",
       "      <td>C23</td>\n",
       "      <td>2</td>\n",
       "      <td>57387</td>\n",
       "      <td>24/12/18</td>\n",
       "      <td>03/11/19</td>\n",
       "      <td>1</td>\n",
       "      <td>1</td>\n",
       "      <td>0</td>\n",
       "      <td>2</td>\n",
       "    </tr>\n",
       "    <tr>\n",
       "      <th>3</th>\n",
       "      <td>3</td>\n",
       "      <td>11/01/20</td>\n",
       "      <td>2</td>\n",
       "      <td>31.0</td>\n",
       "      <td>0.0</td>\n",
       "      <td>C7</td>\n",
       "      <td>2</td>\n",
       "      <td>67016</td>\n",
       "      <td>11/06/20</td>\n",
       "      <td>NaN</td>\n",
       "      <td>2</td>\n",
       "      <td>2</td>\n",
       "      <td>0</td>\n",
       "      <td>1</td>\n",
       "    </tr>\n",
       "    <tr>\n",
       "      <th>4</th>\n",
       "      <td>4</td>\n",
       "      <td>12/01/20</td>\n",
       "      <td>2</td>\n",
       "      <td>31.0</td>\n",
       "      <td>0.0</td>\n",
       "      <td>C7</td>\n",
       "      <td>2</td>\n",
       "      <td>67016</td>\n",
       "      <td>11/06/20</td>\n",
       "      <td>NaN</td>\n",
       "      <td>2</td>\n",
       "      <td>2</td>\n",
       "      <td>0</td>\n",
       "      <td>1</td>\n",
       "    </tr>\n",
       "    <tr>\n",
       "      <th>...</th>\n",
       "      <td>...</td>\n",
       "      <td>...</td>\n",
       "      <td>...</td>\n",
       "      <td>...</td>\n",
       "      <td>...</td>\n",
       "      <td>...</td>\n",
       "      <td>...</td>\n",
       "      <td>...</td>\n",
       "      <td>...</td>\n",
       "      <td>...</td>\n",
       "      <td>...</td>\n",
       "      <td>...</td>\n",
       "      <td>...</td>\n",
       "      <td>...</td>\n",
       "    </tr>\n",
       "    <tr>\n",
       "      <th>19099</th>\n",
       "      <td>19099</td>\n",
       "      <td>08/01/20</td>\n",
       "      <td>2788</td>\n",
       "      <td>30.0</td>\n",
       "      <td>0.0</td>\n",
       "      <td>C27</td>\n",
       "      <td>2</td>\n",
       "      <td>70254</td>\n",
       "      <td>06/08/20</td>\n",
       "      <td>NaN</td>\n",
       "      <td>2</td>\n",
       "      <td>2</td>\n",
       "      <td>740280</td>\n",
       "      <td>3</td>\n",
       "    </tr>\n",
       "    <tr>\n",
       "      <th>19100</th>\n",
       "      <td>19100</td>\n",
       "      <td>09/01/20</td>\n",
       "      <td>2788</td>\n",
       "      <td>30.0</td>\n",
       "      <td>0.0</td>\n",
       "      <td>C27</td>\n",
       "      <td>2</td>\n",
       "      <td>70254</td>\n",
       "      <td>06/08/20</td>\n",
       "      <td>NaN</td>\n",
       "      <td>2</td>\n",
       "      <td>2</td>\n",
       "      <td>448370</td>\n",
       "      <td>3</td>\n",
       "    </tr>\n",
       "    <tr>\n",
       "      <th>19101</th>\n",
       "      <td>19101</td>\n",
       "      <td>10/01/20</td>\n",
       "      <td>2788</td>\n",
       "      <td>30.0</td>\n",
       "      <td>0.0</td>\n",
       "      <td>C27</td>\n",
       "      <td>2</td>\n",
       "      <td>70254</td>\n",
       "      <td>06/08/20</td>\n",
       "      <td>NaN</td>\n",
       "      <td>2</td>\n",
       "      <td>2</td>\n",
       "      <td>0</td>\n",
       "      <td>2</td>\n",
       "    </tr>\n",
       "    <tr>\n",
       "      <th>19102</th>\n",
       "      <td>19102</td>\n",
       "      <td>11/01/20</td>\n",
       "      <td>2788</td>\n",
       "      <td>30.0</td>\n",
       "      <td>0.0</td>\n",
       "      <td>C27</td>\n",
       "      <td>2</td>\n",
       "      <td>70254</td>\n",
       "      <td>06/08/20</td>\n",
       "      <td>NaN</td>\n",
       "      <td>2</td>\n",
       "      <td>2</td>\n",
       "      <td>200420</td>\n",
       "      <td>2</td>\n",
       "    </tr>\n",
       "    <tr>\n",
       "      <th>19103</th>\n",
       "      <td>19103</td>\n",
       "      <td>12/01/20</td>\n",
       "      <td>2788</td>\n",
       "      <td>30.0</td>\n",
       "      <td>0.0</td>\n",
       "      <td>C27</td>\n",
       "      <td>2</td>\n",
       "      <td>70254</td>\n",
       "      <td>06/08/20</td>\n",
       "      <td>NaN</td>\n",
       "      <td>2</td>\n",
       "      <td>2</td>\n",
       "      <td>411480</td>\n",
       "      <td>2</td>\n",
       "    </tr>\n",
       "  </tbody>\n",
       "</table>\n",
       "<p>19104 rows × 14 columns</p>\n",
       "</div>"
      ],
      "text/plain": [
       "       Unnamed: 0    MMM-YY  Driver_ID   Age  Gender City  Education_Level  \\\n",
       "0               0  01/01/19          1  28.0     0.0  C23                2   \n",
       "1               1  02/01/19          1  28.0     0.0  C23                2   \n",
       "2               2  03/01/19          1  28.0     0.0  C23                2   \n",
       "3               3  11/01/20          2  31.0     0.0   C7                2   \n",
       "4               4  12/01/20          2  31.0     0.0   C7                2   \n",
       "...           ...       ...        ...   ...     ...  ...              ...   \n",
       "19099       19099  08/01/20       2788  30.0     0.0  C27                2   \n",
       "19100       19100  09/01/20       2788  30.0     0.0  C27                2   \n",
       "19101       19101  10/01/20       2788  30.0     0.0  C27                2   \n",
       "19102       19102  11/01/20       2788  30.0     0.0  C27                2   \n",
       "19103       19103  12/01/20       2788  30.0     0.0  C27                2   \n",
       "\n",
       "       Income Dateofjoining LastWorkingDate  Joining Designation  Grade  \\\n",
       "0       57387      24/12/18             NaN                    1      1   \n",
       "1       57387      24/12/18             NaN                    1      1   \n",
       "2       57387      24/12/18        03/11/19                    1      1   \n",
       "3       67016      11/06/20             NaN                    2      2   \n",
       "4       67016      11/06/20             NaN                    2      2   \n",
       "...       ...           ...             ...                  ...    ...   \n",
       "19099   70254      06/08/20             NaN                    2      2   \n",
       "19100   70254      06/08/20             NaN                    2      2   \n",
       "19101   70254      06/08/20             NaN                    2      2   \n",
       "19102   70254      06/08/20             NaN                    2      2   \n",
       "19103   70254      06/08/20             NaN                    2      2   \n",
       "\n",
       "       Total Business Value  Quarterly Rating  \n",
       "0                   2381060                 2  \n",
       "1                   -665480                 2  \n",
       "2                         0                 2  \n",
       "3                         0                 1  \n",
       "4                         0                 1  \n",
       "...                     ...               ...  \n",
       "19099                740280                 3  \n",
       "19100                448370                 3  \n",
       "19101                     0                 2  \n",
       "19102                200420                 2  \n",
       "19103                411480                 2  \n",
       "\n",
       "[19104 rows x 14 columns]"
      ]
     },
     "execution_count": 33,
     "metadata": {},
     "output_type": "execute_result"
    }
   ],
   "source": [
    "import io\n",
    "import pandas as pd\n",
    "df = pd.read_csv(r\"C:\\Users\\Swati Negi\\Downloads\\ola_driver.csv\")\n",
    "df\n"
   ]
  },
  {
   "cell_type": "markdown",
   "id": "5e84b2ee-5a59-48d6-9558-93ed1aa1e8e0",
   "metadata": {},
   "source": [
    "### INSPECTION OF THE DATA"
   ]
  },
  {
   "cell_type": "code",
   "execution_count": 34,
   "id": "318e5d83-8eaa-46e1-b567-18947bee9d0f",
   "metadata": {},
   "outputs": [
    {
     "data": {
      "text/plain": [
       "(19104, 14)"
      ]
     },
     "execution_count": 34,
     "metadata": {},
     "output_type": "execute_result"
    }
   ],
   "source": [
    "df.shape"
   ]
  },
  {
   "cell_type": "code",
   "execution_count": 35,
   "id": "7b632c2c-af40-45f7-8874-fcd3c81000e5",
   "metadata": {},
   "outputs": [
    {
     "data": {
      "text/plain": [
       "Unnamed: 0                int64\n",
       "MMM-YY                   object\n",
       "Driver_ID                 int64\n",
       "Age                     float64\n",
       "Gender                  float64\n",
       "City                     object\n",
       "Education_Level           int64\n",
       "Income                    int64\n",
       "Dateofjoining            object\n",
       "LastWorkingDate          object\n",
       "Joining Designation       int64\n",
       "Grade                     int64\n",
       "Total Business Value      int64\n",
       "Quarterly Rating          int64\n",
       "dtype: object"
      ]
     },
     "execution_count": 35,
     "metadata": {},
     "output_type": "execute_result"
    }
   ],
   "source": [
    "df.dtypes"
   ]
  },
  {
   "cell_type": "markdown",
   "id": "2d88d989-3e54-4215-afc0-06b443eb18aa",
   "metadata": {},
   "source": [
    "### CHECK FOR MISSING VALUES"
   ]
  },
  {
   "cell_type": "code",
   "execution_count": 36,
   "id": "4d3fdb9c-88a5-43ad-8e92-450ca2ac5b06",
   "metadata": {},
   "outputs": [
    {
     "data": {
      "text/plain": [
       "Unnamed: 0                  0\n",
       "MMM-YY                      0\n",
       "Driver_ID                   0\n",
       "Age                        61\n",
       "Gender                     52\n",
       "City                        0\n",
       "Education_Level             0\n",
       "Income                      0\n",
       "Dateofjoining               0\n",
       "LastWorkingDate         17488\n",
       "Joining Designation         0\n",
       "Grade                       0\n",
       "Total Business Value        0\n",
       "Quarterly Rating            0\n",
       "dtype: int64"
      ]
     },
     "execution_count": 36,
     "metadata": {},
     "output_type": "execute_result"
    }
   ],
   "source": [
    "df.isnull().sum()"
   ]
  },
  {
   "cell_type": "markdown",
   "id": "bd112e45-d008-42dc-91bc-dc674b684701",
   "metadata": {},
   "source": [
    "##### There are large number of missing values in \"lastworkingdate\" column but their is no problem regarding it because it states that number of drivers are still active."
   ]
  },
  {
   "cell_type": "markdown",
   "id": "17a63eee-e665-4b24-adb7-b82bd8d28f2a",
   "metadata": {},
   "source": [
    "### STATISTICAL SUMMARY:"
   ]
  },
  {
   "cell_type": "code",
   "execution_count": 37,
   "id": "753123cb-668f-4354-99cc-75d2e876a02d",
   "metadata": {},
   "outputs": [
    {
     "data": {
      "text/html": [
       "<div>\n",
       "<style scoped>\n",
       "    .dataframe tbody tr th:only-of-type {\n",
       "        vertical-align: middle;\n",
       "    }\n",
       "\n",
       "    .dataframe tbody tr th {\n",
       "        vertical-align: top;\n",
       "    }\n",
       "\n",
       "    .dataframe thead th {\n",
       "        text-align: right;\n",
       "    }\n",
       "</style>\n",
       "<table border=\"1\" class=\"dataframe\">\n",
       "  <thead>\n",
       "    <tr style=\"text-align: right;\">\n",
       "      <th></th>\n",
       "      <th>Unnamed: 0</th>\n",
       "      <th>Driver_ID</th>\n",
       "      <th>Age</th>\n",
       "      <th>Gender</th>\n",
       "      <th>Education_Level</th>\n",
       "      <th>Income</th>\n",
       "      <th>Joining Designation</th>\n",
       "      <th>Grade</th>\n",
       "      <th>Total Business Value</th>\n",
       "      <th>Quarterly Rating</th>\n",
       "    </tr>\n",
       "  </thead>\n",
       "  <tbody>\n",
       "    <tr>\n",
       "      <th>count</th>\n",
       "      <td>19104.000000</td>\n",
       "      <td>19104.000000</td>\n",
       "      <td>19043.000000</td>\n",
       "      <td>19052.000000</td>\n",
       "      <td>19104.000000</td>\n",
       "      <td>19104.000000</td>\n",
       "      <td>19104.000000</td>\n",
       "      <td>19104.000000</td>\n",
       "      <td>1.910400e+04</td>\n",
       "      <td>19104.000000</td>\n",
       "    </tr>\n",
       "    <tr>\n",
       "      <th>mean</th>\n",
       "      <td>9551.500000</td>\n",
       "      <td>1415.591133</td>\n",
       "      <td>34.668435</td>\n",
       "      <td>0.418749</td>\n",
       "      <td>1.021671</td>\n",
       "      <td>65652.025126</td>\n",
       "      <td>1.690536</td>\n",
       "      <td>2.252670</td>\n",
       "      <td>5.716621e+05</td>\n",
       "      <td>2.008899</td>\n",
       "    </tr>\n",
       "    <tr>\n",
       "      <th>std</th>\n",
       "      <td>5514.994107</td>\n",
       "      <td>810.705321</td>\n",
       "      <td>6.257912</td>\n",
       "      <td>0.493367</td>\n",
       "      <td>0.800167</td>\n",
       "      <td>30914.515344</td>\n",
       "      <td>0.836984</td>\n",
       "      <td>1.026512</td>\n",
       "      <td>1.128312e+06</td>\n",
       "      <td>1.009832</td>\n",
       "    </tr>\n",
       "    <tr>\n",
       "      <th>min</th>\n",
       "      <td>0.000000</td>\n",
       "      <td>1.000000</td>\n",
       "      <td>21.000000</td>\n",
       "      <td>0.000000</td>\n",
       "      <td>0.000000</td>\n",
       "      <td>10747.000000</td>\n",
       "      <td>1.000000</td>\n",
       "      <td>1.000000</td>\n",
       "      <td>-6.000000e+06</td>\n",
       "      <td>1.000000</td>\n",
       "    </tr>\n",
       "    <tr>\n",
       "      <th>25%</th>\n",
       "      <td>4775.750000</td>\n",
       "      <td>710.000000</td>\n",
       "      <td>30.000000</td>\n",
       "      <td>0.000000</td>\n",
       "      <td>0.000000</td>\n",
       "      <td>42383.000000</td>\n",
       "      <td>1.000000</td>\n",
       "      <td>1.000000</td>\n",
       "      <td>0.000000e+00</td>\n",
       "      <td>1.000000</td>\n",
       "    </tr>\n",
       "    <tr>\n",
       "      <th>50%</th>\n",
       "      <td>9551.500000</td>\n",
       "      <td>1417.000000</td>\n",
       "      <td>34.000000</td>\n",
       "      <td>0.000000</td>\n",
       "      <td>1.000000</td>\n",
       "      <td>60087.000000</td>\n",
       "      <td>1.000000</td>\n",
       "      <td>2.000000</td>\n",
       "      <td>2.500000e+05</td>\n",
       "      <td>2.000000</td>\n",
       "    </tr>\n",
       "    <tr>\n",
       "      <th>75%</th>\n",
       "      <td>14327.250000</td>\n",
       "      <td>2137.000000</td>\n",
       "      <td>39.000000</td>\n",
       "      <td>1.000000</td>\n",
       "      <td>2.000000</td>\n",
       "      <td>83969.000000</td>\n",
       "      <td>2.000000</td>\n",
       "      <td>3.000000</td>\n",
       "      <td>6.997000e+05</td>\n",
       "      <td>3.000000</td>\n",
       "    </tr>\n",
       "    <tr>\n",
       "      <th>max</th>\n",
       "      <td>19103.000000</td>\n",
       "      <td>2788.000000</td>\n",
       "      <td>58.000000</td>\n",
       "      <td>1.000000</td>\n",
       "      <td>2.000000</td>\n",
       "      <td>188418.000000</td>\n",
       "      <td>5.000000</td>\n",
       "      <td>5.000000</td>\n",
       "      <td>3.374772e+07</td>\n",
       "      <td>4.000000</td>\n",
       "    </tr>\n",
       "  </tbody>\n",
       "</table>\n",
       "</div>"
      ],
      "text/plain": [
       "         Unnamed: 0     Driver_ID           Age        Gender  \\\n",
       "count  19104.000000  19104.000000  19043.000000  19052.000000   \n",
       "mean    9551.500000   1415.591133     34.668435      0.418749   \n",
       "std     5514.994107    810.705321      6.257912      0.493367   \n",
       "min        0.000000      1.000000     21.000000      0.000000   \n",
       "25%     4775.750000    710.000000     30.000000      0.000000   \n",
       "50%     9551.500000   1417.000000     34.000000      0.000000   \n",
       "75%    14327.250000   2137.000000     39.000000      1.000000   \n",
       "max    19103.000000   2788.000000     58.000000      1.000000   \n",
       "\n",
       "       Education_Level         Income  Joining Designation         Grade  \\\n",
       "count     19104.000000   19104.000000         19104.000000  19104.000000   \n",
       "mean          1.021671   65652.025126             1.690536      2.252670   \n",
       "std           0.800167   30914.515344             0.836984      1.026512   \n",
       "min           0.000000   10747.000000             1.000000      1.000000   \n",
       "25%           0.000000   42383.000000             1.000000      1.000000   \n",
       "50%           1.000000   60087.000000             1.000000      2.000000   \n",
       "75%           2.000000   83969.000000             2.000000      3.000000   \n",
       "max           2.000000  188418.000000             5.000000      5.000000   \n",
       "\n",
       "       Total Business Value  Quarterly Rating  \n",
       "count          1.910400e+04      19104.000000  \n",
       "mean           5.716621e+05          2.008899  \n",
       "std            1.128312e+06          1.009832  \n",
       "min           -6.000000e+06          1.000000  \n",
       "25%            0.000000e+00          1.000000  \n",
       "50%            2.500000e+05          2.000000  \n",
       "75%            6.997000e+05          3.000000  \n",
       "max            3.374772e+07          4.000000  "
      ]
     },
     "execution_count": 37,
     "metadata": {},
     "output_type": "execute_result"
    }
   ],
   "source": [
    "df.describe()"
   ]
  },
  {
   "cell_type": "markdown",
   "id": "3955c62f-ca48-4de1-baad-0b0f126edeb5",
   "metadata": {},
   "source": [
    "### NUMBER OF UNIQUE DRIVERS"
   ]
  },
  {
   "cell_type": "code",
   "execution_count": 38,
   "id": "98056b3b-d96f-48b2-9a7d-8005f176f553",
   "metadata": {},
   "outputs": [
    {
     "data": {
      "text/plain": [
       "2381"
      ]
     },
     "execution_count": 38,
     "metadata": {},
     "output_type": "execute_result"
    }
   ],
   "source": [
    "df['Driver_ID'].nunique()"
   ]
  },
  {
   "cell_type": "markdown",
   "id": "f3a07081-c47a-48ed-9298-22ec4f821773",
   "metadata": {},
   "source": [
    "### TEMPORAL ANALYSIS"
   ]
  },
  {
   "cell_type": "code",
   "execution_count": 59,
   "id": "11e60d7c-de85-40ce-80a9-511d23a8277a",
   "metadata": {},
   "outputs": [],
   "source": [
    "df['Dateofjoining'] = pd.to_datetime(df['Dateofjoining'], errors='coerce')\n",
    "df['LastWorkingDate'] = pd.to_datetime(df['LastWorkingDate'], errors='coerce')"
   ]
  },
  {
   "cell_type": "markdown",
   "id": "598007fa-0b44-481d-827e-24fc80e6feb6",
   "metadata": {},
   "source": [
    "#### Number of drivers joined and left each month"
   ]
  },
  {
   "cell_type": "code",
   "execution_count": 40,
   "id": "ad27be64-10e1-4db0-bc18-799e1176705f",
   "metadata": {},
   "outputs": [
    {
     "name": "stdout",
     "output_type": "stream",
     "text": [
      "JoinMonth\n",
      "2013-04     31\n",
      "2013-05     24\n",
      "2013-06     59\n",
      "2013-07     63\n",
      "2013-08     33\n",
      "          ... \n",
      "2020-08    325\n",
      "2020-09    314\n",
      "2020-10    139\n",
      "2020-11     93\n",
      "2020-12     59\n",
      "Freq: M, Name: count, Length: 85, dtype: int64\n",
      "LeaveMonth\n",
      "2018-12      5\n",
      "2019-01     82\n",
      "2019-02     85\n",
      "2019-03     75\n",
      "2019-04     49\n",
      "2019-05     98\n",
      "2019-06     61\n",
      "2019-07     48\n",
      "2019-08     53\n",
      "2019-09     79\n",
      "2019-10     70\n",
      "2019-11     69\n",
      "2019-12     56\n",
      "2020-01     70\n",
      "2020-02     70\n",
      "2020-03     58\n",
      "2020-04     42\n",
      "2020-05     63\n",
      "2020-06     77\n",
      "2020-07    141\n",
      "2020-08      4\n",
      "2020-09     66\n",
      "2020-10     62\n",
      "2020-11     73\n",
      "2020-12     60\n",
      "Freq: M, Name: count, dtype: int64\n"
     ]
    }
   ],
   "source": [
    "df['JoinMonth'] = df['Dateofjoining'].dt.to_period('M')\n",
    "df['LeaveMonth'] = df['LastWorkingDate'].dt.to_period('M')\n",
    "\n",
    "join_counts = df['JoinMonth'].value_counts().sort_index()\n",
    "print(join_counts)\n",
    "\n",
    "leave_counts = df['LeaveMonth'].value_counts().sort_index()\n",
    "print(leave_counts)"
   ]
  },
  {
   "cell_type": "markdown",
   "id": "277825b9-ad76-4df8-9f07-c9af0e4f28b3",
   "metadata": {},
   "source": [
    "#### Average tenure of drivers"
   ]
  },
  {
   "cell_type": "code",
   "execution_count": 41,
   "id": "b5d7c372-8396-4c70-b67a-6d6a5bf0024b",
   "metadata": {},
   "outputs": [
    {
     "data": {
      "text/plain": [
       "19.73729934394193"
      ]
     },
     "execution_count": 41,
     "metadata": {},
     "output_type": "execute_result"
    }
   ],
   "source": [
    "df['LastDate'] = df['LastWorkingDate'].fillna(df['MMM-YY'])\n",
    "df['Tenure_Days'] = (df['LastDate'] - df['Dateofjoining']).dt.days\n",
    "df['Tenure_Days'].mean() / 30  "
   ]
  },
  {
   "cell_type": "markdown",
   "id": "e180ed90-3394-4376-90e1-ab23a8301307",
   "metadata": {},
   "source": [
    "## DATA PREPROCESSING"
   ]
  },
  {
   "cell_type": "markdown",
   "id": "ca310686-45f2-417b-af36-7033878262de",
   "metadata": {},
   "source": [
    "### FEATURE ENGINEERING:"
   ]
  },
  {
   "cell_type": "markdown",
   "id": "c8380ab2-f9c9-4a50-a89a-8aa86ebd9f3c",
   "metadata": {},
   "source": [
    "#### Target variable to indicate whether a driver has left the company based on LastWorkingDate?"
   ]
  },
  {
   "cell_type": "code",
   "execution_count": 42,
   "id": "556b4d0f-0249-4ae9-9fc6-ff6324a0472c",
   "metadata": {},
   "outputs": [
    {
     "name": "stdout",
     "output_type": "stream",
     "text": [
      "0        0\n",
      "1        0\n",
      "2        1\n",
      "3        0\n",
      "4        0\n",
      "        ..\n",
      "19099    0\n",
      "19100    0\n",
      "19101    0\n",
      "19102    0\n",
      "19103    0\n",
      "Name: Attrition, Length: 19104, dtype: int32\n"
     ]
    }
   ],
   "source": [
    "df['Attrition'] = df['LastWorkingDate'].notna().astype(int)\n",
    "print(df['Attrition'])"
   ]
  },
  {
   "cell_type": "markdown",
   "id": "f9db96df-a38f-49ad-8acc-adfed5c66f55",
   "metadata": {},
   "source": [
    "##### If it shows 1 then it means driver has left the ola or if it shows 0 then driver is still active."
   ]
  },
  {
   "cell_type": "markdown",
   "id": "53d1c8b0-9d98-4616-80b2-8fa0678ac9f5",
   "metadata": {},
   "source": [
    "#### Tenure or duration of employment"
   ]
  },
  {
   "cell_type": "code",
   "execution_count": 43,
   "id": "8f0567fb-d813-4fd9-83c6-86d39d4a597a",
   "metadata": {},
   "outputs": [
    {
     "name": "stdout",
     "output_type": "stream",
     "text": [
      "0         8 days\n",
      "1        39 days\n",
      "2        77 days\n",
      "3        -5 days\n",
      "4        25 days\n",
      "          ...   \n",
      "19099    54 days\n",
      "19100    85 days\n",
      "19101   115 days\n",
      "19102   146 days\n",
      "19103   176 days\n",
      "Name: Tenure_Days, Length: 19104, dtype: timedelta64[ns]\n"
     ]
    }
   ],
   "source": [
    "df['Tenure_Days'] = (df['LastDate']-df['Dateofjoining'])\n",
    "print(df['Tenure_Days'])"
   ]
  },
  {
   "cell_type": "markdown",
   "id": "db4cfb7d-f04d-4190-baf8-a7fa013c1554",
   "metadata": {},
   "source": [
    "#### Changes of drivers rating and income"
   ]
  },
  {
   "cell_type": "code",
   "execution_count": 44,
   "id": "99eaa2bc-9d25-438d-b9ae-de17cbc6ed92",
   "metadata": {},
   "outputs": [
    {
     "name": "stdout",
     "output_type": "stream",
     "text": [
      "0        False\n",
      "1        False\n",
      "2        False\n",
      "3        False\n",
      "4        False\n",
      "         ...  \n",
      "19099    False\n",
      "19100    False\n",
      "19101    False\n",
      "19102    False\n",
      "19103    False\n",
      "Name: Rating_Increased, Length: 19104, dtype: bool\n"
     ]
    }
   ],
   "source": [
    "df.sort_values(by=['Driver_ID','MMM-YY'],inplace = True)\n",
    "\n",
    "df['Prev_Rating'] = df.groupby('Driver_ID')['Quarterly Rating'].shift(1)\n",
    "df['Rating_Increased'] = (df['Quarterly Rating']> df['Prev_Rating'])\n",
    "print(df['Rating_Increased'])"
   ]
  },
  {
   "cell_type": "code",
   "execution_count": 45,
   "id": "5a326312-203c-488f-bdb0-b17d5dd1811f",
   "metadata": {},
   "outputs": [
    {
     "name": "stdout",
     "output_type": "stream",
     "text": [
      "0        False\n",
      "1        False\n",
      "2        False\n",
      "3        False\n",
      "4        False\n",
      "         ...  \n",
      "19099    False\n",
      "19100    False\n",
      "19101    False\n",
      "19102    False\n",
      "19103    False\n",
      "Name: Income_Increased, Length: 19104, dtype: bool\n"
     ]
    }
   ],
   "source": [
    "df['Prev_Income'] = df.groupby('Driver_ID')['Income'].shift(1)\n",
    "df['Income_Increased'] = (df['Income']>df['Prev_Income'])\n",
    "print(df['Income_Increased'])"
   ]
  },
  {
   "cell_type": "markdown",
   "id": "6da88a65-c5f4-44e2-9052-cf6427f791cc",
   "metadata": {},
   "source": [
    "### EDA (EXPLORATORY DATA ANALYSIS)"
   ]
  },
  {
   "cell_type": "markdown",
   "id": "4ca418c4-513c-4088-9825-7f21ec2bd627",
   "metadata": {},
   "source": [
    "####  Distributions of Age, Income, and Total Business Value"
   ]
  },
  {
   "cell_type": "code",
   "execution_count": 46,
   "id": "971b2fb8-ad54-46e7-81ea-45785e607e92",
   "metadata": {},
   "outputs": [
    {
     "name": "stderr",
     "output_type": "stream",
     "text": [
      "C:\\ProgramData\\anaconda3\\Lib\\site-packages\\seaborn\\_oldcore.py:1119: FutureWarning: use_inf_as_na option is deprecated and will be removed in a future version. Convert inf values to NaN before operating instead.\n",
      "  with pd.option_context('mode.use_inf_as_na', True):\n",
      "C:\\ProgramData\\anaconda3\\Lib\\site-packages\\seaborn\\_oldcore.py:1119: FutureWarning: use_inf_as_na option is deprecated and will be removed in a future version. Convert inf values to NaN before operating instead.\n",
      "  with pd.option_context('mode.use_inf_as_na', True):\n",
      "C:\\ProgramData\\anaconda3\\Lib\\site-packages\\seaborn\\_oldcore.py:1119: FutureWarning: use_inf_as_na option is deprecated and will be removed in a future version. Convert inf values to NaN before operating instead.\n",
      "  with pd.option_context('mode.use_inf_as_na', True):\n"
     ]
    },
    {
     "data": {
      "text/plain": [
       "<Axes: xlabel='Age', ylabel='Count'>"
      ]
     },
     "execution_count": 46,
     "metadata": {},
     "output_type": "execute_result"
    },
    {
     "data": {
      "image/png": "[encoded data removed]",
      "text/plain": [
       "<Figure size 640x480 with 1 Axes>"
      ]
     },
     "metadata": {},
     "output_type": "display_data"
    }
   ],
   "source": [
    "sns.histplot(df['Age'],kde=True)\n",
    "sns.histplot(df['Income'],kde=True)\n",
    "sns.histplot(df['Total Business Value'],kde=True)"
   ]
  },
  {
   "cell_type": "markdown",
   "id": "2c281f7c-b4b6-4d84-baf3-3b34624c8017",
   "metadata": {},
   "source": [
    "#### Quarterly Rating vary across different drivers and time periods"
   ]
  },
  {
   "cell_type": "code",
   "execution_count": 47,
   "id": "85365f2a-f9bf-47ff-b606-26d04b3c1252",
   "metadata": {},
   "outputs": [
    {
     "data": {
      "text/plain": [
       "<Axes: xlabel='Quarterly Rating', ylabel='Income'>"
      ]
     },
     "execution_count": 47,
     "metadata": {},
     "output_type": "execute_result"
    },
    {
     "data": {
      "image/png": "[encoded data removed]",
      "text/plain": [
       "<Figure size 640x480 with 1 Axes>"
      ]
     },
     "metadata": {},
     "output_type": "display_data"
    }
   ],
   "source": [
    "sns.boxplot(x='Quarterly Rating', y= 'Income', data = df)"
   ]
  },
  {
   "cell_type": "markdown",
   "id": "defc25c2-2df9-42c8-897d-906f87693e06",
   "metadata": {},
   "source": [
    "#### Trends or patterns in the monthly income or business value acquired"
   ]
  },
  {
   "cell_type": "code",
   "execution_count": 48,
   "id": "8b2d3ceb-007f-4b5f-a471-d75b3eb37f5b",
   "metadata": {},
   "outputs": [
    {
     "data": {
      "text/plain": [
       "<Axes: xlabel='MMM-YY'>"
      ]
     },
     "execution_count": 48,
     "metadata": {},
     "output_type": "execute_result"
    },
    {
     "data": {
      "image/png": "[encoded data removed]",
      "text/plain": [
       "<Figure size 640x480 with 1 Axes>"
      ]
     },
     "metadata": {},
     "output_type": "display_data"
    }
   ],
   "source": [
    "df.groupby('MMM-YY')['Income'].mean().plot()\n",
    "df.groupby('MMM-YY')['Total Business Value'].mean().plot()"
   ]
  },
  {
   "cell_type": "markdown",
   "id": "2653ed8f-1e9f-4991-9507-fe9445385184",
   "metadata": {},
   "source": [
    "### Missing Values Handling:"
   ]
  },
  {
   "cell_type": "markdown",
   "id": "a7f80d57-0acb-41a3-8df2-e5f27f72a227",
   "metadata": {},
   "source": [
    "##### In 'LastWorkingDate' their are many missing values but it is used to define the attrrition part for the projects, so we don't need to handle this type of missing values."
   ]
  },
  {
   "cell_type": "markdown",
   "id": "671443ab-3c40-4da3-85fb-b9abda165a77",
   "metadata": {},
   "source": [
    "##### Other missing values like \"Age\" and \"Gender\" can be imputed using:"
   ]
  },
  {
   "cell_type": "code",
   "execution_count": 54,
   "id": "27f90811-4757-43cd-a86a-fcd2d4d72307",
   "metadata": {},
   "outputs": [],
   "source": [
    "df['Age'].fillna(df['Age'].median(),inplace = True)"
   ]
  },
  {
   "cell_type": "code",
   "execution_count": 55,
   "id": "cf796510-b12e-4327-81d9-58d332808522",
   "metadata": {},
   "outputs": [],
   "source": [
    "df['Gender'].fillna(df['Gender'].median(),inplace = True)"
   ]
  },
  {
   "cell_type": "markdown",
   "id": "24955ed0-b197-40c7-91b1-41ea0cedd776",
   "metadata": {},
   "source": [
    "### Correlation and Relationships"
   ]
  },
  {
   "cell_type": "markdown",
   "id": "a3fcf9c5-8469-4866-b772-01bd7c2184db",
   "metadata": {},
   "source": [
    "####  Correlation between Age and Income"
   ]
  },
  {
   "cell_type": "code",
   "execution_count": 56,
   "id": "8cfdb13c-2245-460d-959a-139f08300cba",
   "metadata": {},
   "outputs": [
    {
     "data": {
      "text/html": [
       "<div>\n",
       "<style scoped>\n",
       "    .dataframe tbody tr th:only-of-type {\n",
       "        vertical-align: middle;\n",
       "    }\n",
       "\n",
       "    .dataframe tbody tr th {\n",
       "        vertical-align: top;\n",
       "    }\n",
       "\n",
       "    .dataframe thead th {\n",
       "        text-align: right;\n",
       "    }\n",
       "</style>\n",
       "<table border=\"1\" class=\"dataframe\">\n",
       "  <thead>\n",
       "    <tr style=\"text-align: right;\">\n",
       "      <th></th>\n",
       "      <th>Age</th>\n",
       "      <th>Income</th>\n",
       "    </tr>\n",
       "  </thead>\n",
       "  <tbody>\n",
       "    <tr>\n",
       "      <th>Age</th>\n",
       "      <td>1.000000</td>\n",
       "      <td>0.190995</td>\n",
       "    </tr>\n",
       "    <tr>\n",
       "      <th>Income</th>\n",
       "      <td>0.190995</td>\n",
       "      <td>1.000000</td>\n",
       "    </tr>\n",
       "  </tbody>\n",
       "</table>\n",
       "</div>"
      ],
      "text/plain": [
       "             Age    Income\n",
       "Age     1.000000  0.190995\n",
       "Income  0.190995  1.000000"
      ]
     },
     "execution_count": 56,
     "metadata": {},
     "output_type": "execute_result"
    }
   ],
   "source": [
    "df[['Age','Income']].corr()"
   ]
  },
  {
   "cell_type": "markdown",
   "id": "d82721f0-1208-472c-95fc-f98a2f85ea40",
   "metadata": {},
   "source": [
    "##### Weak correlation between Age and Income"
   ]
  },
  {
   "cell_type": "markdown",
   "id": "f94b005a-6b5d-4d73-b84b-c5665a4632c9",
   "metadata": {},
   "source": [
    "### How do Education_Level and City affect Total Business Value"
   ]
  },
  {
   "cell_type": "code",
   "execution_count": 57,
   "id": "dfdb9411-60be-487a-bbcb-6e7535a1ea70",
   "metadata": {},
   "outputs": [
    {
     "data": {
      "text/plain": [
       "City\n",
       "C1     531560.280650\n",
       "C10    540753.736559\n",
       "C11    538549.145299\n",
       "C12    667282.310867\n",
       "C13    796263.075571\n",
       "C14    607931.635802\n",
       "C15    553266.636005\n",
       "C16    632585.712271\n",
       "C17    429160.204545\n",
       "C18    550106.250000\n",
       "C19    630978.151986\n",
       "C2     553365.084746\n",
       "C20    468535.605159\n",
       "C21    572684.776119\n",
       "C22    559749.431397\n",
       "C23    423986.561338\n",
       "C24    584712.426710\n",
       "C25    507575.119863\n",
       "C26    661837.445339\n",
       "C27    572039.312977\n",
       "C28    591406.778917\n",
       "C29    736637.511111\n",
       "C3     458003.940345\n",
       "C4     556092.266436\n",
       "C5     634855.975610\n",
       "C6     566042.954545\n",
       "C7     484569.228243\n",
       "C8     566328.539326\n",
       "C9     467914.865385\n",
       "Name: Total Business Value, dtype: float64"
      ]
     },
     "execution_count": 57,
     "metadata": {},
     "output_type": "execute_result"
    }
   ],
   "source": [
    "df.groupby('Education_Level')['Total Business Value'].mean()\n",
    "df.groupby('City')['Total Business Value'].mean()"
   ]
  },
  {
   "cell_type": "markdown",
   "id": "55036c61-0c4d-433d-8ffe-00b18f9235a9",
   "metadata": {},
   "source": [
    "### Are drivers with higher Quarterly Rating more likely to stay longer"
   ]
  },
  {
   "cell_type": "code",
   "execution_count": 58,
   "id": "943c847e-46b4-40b6-9d3d-b41dd1987909",
   "metadata": {},
   "outputs": [
    {
     "data": {
      "text/plain": [
       "<Axes: xlabel='Attrition', ylabel='Quarterly Rating'>"
      ]
     },
     "execution_count": 58,
     "metadata": {},
     "output_type": "execute_result"
    },
    {
     "data": {
      "image/png": "[encoded data removed]",
      "text/plain": [
       "<Figure size 640x480 with 1 Axes>"
      ]
     },
     "metadata": {},
     "output_type": "display_data"
    }
   ],
   "source": [
    "sns.boxplot(x='Attrition', y='Quarterly Rating', data = df)"
   ]
  },
  {
   "cell_type": "markdown",
   "id": "9aad6abb-861a-4d77-b2bf-bbe8d9fe99b2",
   "metadata": {},
   "source": [
    "##### Higher ratings is equal to higher retention"
   ]
  },
  {
   "cell_type": "markdown",
   "id": "3a5d1666-5765-491f-8b17-bcfd23cdf2ec",
   "metadata": {},
   "source": [
    "## Actionable Insights & Recommendations"
   ]
  },
  {
   "cell_type": "markdown",
   "id": "4d1bb1e4-ead9-4038-aeb2-39df88d7bd9f",
   "metadata": {},
   "source": [
    "### Based on the analysis, strategies Ola can implement to improve driver retention:\n",
    "\n",
    "-Onboard support: At starting ola should provide training and bonus during the first 3 or 6 months of the joining.\n",
    "\n",
    "-Mentor low rated driver: To reduce the churn ola can use the early support strategy.\n",
    "\n",
    "-Incentive providation: Incentive can be given after every milestone achieved and recognition.\n"
   ]
  },
  {
   "cell_type": "markdown",
   "id": "5b7f2230-526f-4ec2-b062-582d81160cd6",
   "metadata": {},
   "source": [
    "### There are specific demographic groups or performance metrics that require targeted interventions:\n",
    "\n",
    "-Drivers with education level 0 should be provide a support material digitally.\n",
    "\n",
    "-Drivers who have quarterly rating<2 should be given personalized coaching or training.\n",
    "\n",
    "-Drivers who have decreasing income trend should be offered a minimum guaranteed income.\n",
    "\n"
   ]
  },
  {
   "cell_type": "markdown",
   "id": "e0dfffda-b1a3-4739-83be-f50bf42bd651",
   "metadata": {},
   "source": [
    "###  Key factors influencing driver attrition:\n",
    "\n",
    "-Stagnant income.\n",
    "\n",
    "-Poor Quarterly Rating.\n",
    "\n",
    "-Low Tenure."
   ]
  },
  {
   "cell_type": "markdown",
   "id": "a34f9826-5fe6-48ee-80dd-dfc2959a6ef7",
   "metadata": {},
   "source": [
    "# THANK YOU "
   ]
  },
  {
   "cell_type": "code",
   "execution_count": null,
   "id": "483986de-d885-4f39-8114-7a92bb0b4a6d",
   "metadata": {},
   "outputs": [],
   "source": []
  }
 ],
 "metadata": {
  "kernelspec": {
   "display_name": "Python 3 (ipykernel)",
   "language": "python",
   "name": "python3"
  },
  "language_info": {
   "codemirror_mode": {
    "name": "ipython",
    "version": 3
   },
   "file_extension": ".py",
   "mimetype": "text/x-python",
   "name": "python",
   "nbconvert_exporter": "python",
   "pygments_lexer": "ipython3",
   "version": "3.11.7"
  }
 },
 "nbformat": 4,
 "nbformat_minor": 5
}
